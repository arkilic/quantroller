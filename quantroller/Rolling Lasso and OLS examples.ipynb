{
 "cells": [
  {
   "cell_type": "code",
   "execution_count": 29,
   "metadata": {
    "collapsed": true
   },
   "outputs": [],
   "source": [
    "from sklearn.linear_model import Lasso\n",
    "import numpy as np\n",
    "import pandas as pd\n",
    "from rolling import roll, get_rolled\n",
    "import statsmodels.api as sm"
   ]
  },
  {
   "cell_type": "code",
   "execution_count": 31,
   "metadata": {},
   "outputs": [],
   "source": [
    " df3 = pd.DataFrame(np.random.randn(100, 5),\n",
    "                    columns=['y', 'x1', 'x2', 'x3', 'x4'])"
   ]
  },
  {
   "cell_type": "code",
   "execution_count": 32,
   "metadata": {
    "collapsed": true
   },
   "outputs": [],
   "source": [
    "ix = roll(df3, 5, 2)"
   ]
  },
  {
   "cell_type": "code",
   "execution_count": 33,
   "metadata": {},
   "outputs": [
    {
     "name": "stdout",
     "output_type": "stream",
     "text": [
      "[array([0]), array([0, 1]), array([0, 1, 2]), array([0, 1, 2, 3]), array([0, 1, 2, 3, 4]), array([1, 2, 3, 4, 5]), array([2, 3, 4, 5, 6]), array([3, 4, 5, 6, 7]), array([4, 5, 6, 7, 8]), array([5, 6, 7, 8, 9]), array([ 6,  7,  8,  9, 10]), array([ 7,  8,  9, 10, 11]), array([ 8,  9, 10, 11, 12]), array([ 9, 10, 11, 12, 13]), array([10, 11, 12, 13, 14]), array([11, 12, 13, 14, 15]), array([12, 13, 14, 15, 16]), array([13, 14, 15, 16, 17]), array([14, 15, 16, 17, 18]), array([15, 16, 17, 18, 19]), array([16, 17, 18, 19, 20]), array([17, 18, 19, 20, 21]), array([18, 19, 20, 21, 22]), array([19, 20, 21, 22, 23]), array([20, 21, 22, 23, 24]), array([21, 22, 23, 24, 25]), array([22, 23, 24, 25, 26]), array([23, 24, 25, 26, 27]), array([24, 25, 26, 27, 28]), array([25, 26, 27, 28, 29]), array([26, 27, 28, 29, 30]), array([27, 28, 29, 30, 31]), array([28, 29, 30, 31, 32]), array([29, 30, 31, 32, 33]), array([30, 31, 32, 33, 34]), array([31, 32, 33, 34, 35]), array([32, 33, 34, 35, 36]), array([33, 34, 35, 36, 37]), array([34, 35, 36, 37, 38]), array([35, 36, 37, 38, 39]), array([36, 37, 38, 39, 40]), array([37, 38, 39, 40, 41]), array([38, 39, 40, 41, 42]), array([39, 40, 41, 42, 43]), array([40, 41, 42, 43, 44]), array([41, 42, 43, 44, 45]), array([42, 43, 44, 45, 46]), array([43, 44, 45, 46, 47]), array([44, 45, 46, 47, 48]), array([45, 46, 47, 48, 49]), array([46, 47, 48, 49, 50]), array([47, 48, 49, 50, 51]), array([48, 49, 50, 51, 52]), array([49, 50, 51, 52, 53]), array([50, 51, 52, 53, 54]), array([51, 52, 53, 54, 55]), array([52, 53, 54, 55, 56]), array([53, 54, 55, 56, 57]), array([54, 55, 56, 57, 58]), array([55, 56, 57, 58, 59]), array([56, 57, 58, 59, 60]), array([57, 58, 59, 60, 61]), array([58, 59, 60, 61, 62]), array([59, 60, 61, 62, 63]), array([60, 61, 62, 63, 64]), array([61, 62, 63, 64, 65]), array([62, 63, 64, 65, 66]), array([63, 64, 65, 66, 67]), array([64, 65, 66, 67, 68]), array([65, 66, 67, 68, 69]), array([66, 67, 68, 69, 70]), array([67, 68, 69, 70, 71]), array([68, 69, 70, 71, 72]), array([69, 70, 71, 72, 73]), array([70, 71, 72, 73, 74]), array([71, 72, 73, 74, 75]), array([72, 73, 74, 75, 76]), array([73, 74, 75, 76, 77]), array([74, 75, 76, 77, 78]), array([75, 76, 77, 78, 79]), array([76, 77, 78, 79, 80]), array([77, 78, 79, 80, 81]), array([78, 79, 80, 81, 82]), array([79, 80, 81, 82, 83]), array([80, 81, 82, 83, 84]), array([81, 82, 83, 84, 85]), array([82, 83, 84, 85, 86]), array([83, 84, 85, 86, 87]), array([84, 85, 86, 87, 88]), array([85, 86, 87, 88, 89]), array([86, 87, 88, 89, 90]), array([87, 88, 89, 90, 91]), array([88, 89, 90, 91, 92]), array([89, 90, 91, 92, 93]), array([90, 91, 92, 93, 94]), array([91, 92, 93, 94, 95]), array([92, 93, 94, 95, 96]), array([93, 94, 95, 96, 97]), array([94, 95, 96, 97, 98]), array([95, 96, 97, 98, 99])]\n"
     ]
    }
   ],
   "source": [
    "print(ix) # show we gget all rolling indices"
   ]
  },
  {
   "cell_type": "code",
   "execution_count": 34,
   "metadata": {
    "collapsed": true
   },
   "outputs": [],
   "source": [
    "rolled = get_rolled(df3, ix)"
   ]
  },
  {
   "cell_type": "code",
   "execution_count": 35,
   "metadata": {},
   "outputs": [],
   "source": [
    " X = [np.array(rolled[6].x1), np.array(rolled[6].x2), np.array(rolled[6].x3),\n",
    "      np.array(rolled[6].x4)]"
   ]
  },
  {
   "cell_type": "code",
   "execution_count": 36,
   "metadata": {
    "collapsed": true
   },
   "outputs": [],
   "source": [
    "X = np.array(X)"
   ]
  },
  {
   "cell_type": "code",
   "execution_count": 37,
   "metadata": {
    "collapsed": true
   },
   "outputs": [],
   "source": [
    "y = np.array(rolled[6].y)"
   ]
  },
  {
   "cell_type": "code",
   "execution_count": 38,
   "metadata": {
    "collapsed": true
   },
   "outputs": [],
   "source": [
    " clf = Lasso(alpha=0.1)"
   ]
  },
  {
   "cell_type": "code",
   "execution_count": 39,
   "metadata": {},
   "outputs": [
    {
     "data": {
      "text/plain": [
       "Lasso(alpha=0.1, copy_X=True, fit_intercept=True, max_iter=1000,\n",
       "   normalize=False, positive=False, precompute=False, random_state=None,\n",
       "   selection='cyclic', tol=0.0001, warm_start=False)"
      ]
     },
     "execution_count": 39,
     "metadata": {},
     "output_type": "execute_result"
    }
   ],
   "source": [
    "clf.fit(X.T, y)"
   ]
  },
  {
   "cell_type": "code",
   "execution_count": 40,
   "metadata": {},
   "outputs": [
    {
     "name": "stdout",
     "output_type": "stream",
     "text": [
      "[ 0.45710545  0.         -0.         -0.02608722]\n"
     ]
    }
   ],
   "source": [
    "print(clf.coef_)"
   ]
  },
  {
   "cell_type": "code",
   "execution_count": 41,
   "metadata": {},
   "outputs": [
    {
     "name": "stderr",
     "output_type": "stream",
     "text": [
      "/Users/armanarkilic/anaconda/envs/dev/lib/python3.6/site-packages/statsmodels/stats/stattools.py:72: ValueWarning: omni_normtest is not valid with less than 8 observations; 5 samples were given.\n",
      "  \"samples were given.\" % int(n), ValueWarning)\n"
     ]
    },
    {
     "data": {
      "text/html": [
       "<table class=\"simpletable\">\n",
       "<caption>OLS Regression Results</caption>\n",
       "<tr>\n",
       "  <th>Dep. Variable:</th>            <td>y</td>        <th>  R-squared:         </th> <td>   0.999</td>\n",
       "</tr>\n",
       "<tr>\n",
       "  <th>Model:</th>                   <td>OLS</td>       <th>  Adj. R-squared:    </th> <td>   0.997</td>\n",
       "</tr>\n",
       "<tr>\n",
       "  <th>Method:</th>             <td>Least Squares</td>  <th>  F-statistic:       </th> <td>   471.3</td>\n",
       "</tr>\n",
       "<tr>\n",
       "  <th>Date:</th>             <td>Mon, 15 May 2017</td> <th>  Prob (F-statistic):</th>  <td>0.0345</td> \n",
       "</tr>\n",
       "<tr>\n",
       "  <th>Time:</th>                 <td>14:27:47</td>     <th>  Log-Likelihood:    </th> <td>  14.357</td>\n",
       "</tr>\n",
       "<tr>\n",
       "  <th>No. Observations:</th>      <td>     5</td>      <th>  AIC:               </th> <td>  -20.71</td>\n",
       "</tr>\n",
       "<tr>\n",
       "  <th>Df Residuals:</th>          <td>     1</td>      <th>  BIC:               </th> <td>  -22.28</td>\n",
       "</tr>\n",
       "<tr>\n",
       "  <th>Df Model:</th>              <td>     4</td>      <th>                     </th>     <td> </td>   \n",
       "</tr>\n",
       "<tr>\n",
       "  <th>Covariance Type:</th>      <td>nonrobust</td>    <th>                     </th>     <td> </td>   \n",
       "</tr>\n",
       "</table>\n",
       "<table class=\"simpletable\">\n",
       "<tr>\n",
       "   <td></td>     <th>coef</th>     <th>std err</th>      <th>t</th>      <th>P>|t|</th>  <th>[0.025</th>    <th>0.975]</th>  \n",
       "</tr>\n",
       "<tr>\n",
       "  <th>x1</th> <td>    0.7737</td> <td>    0.027</td> <td>   29.117</td> <td> 0.022</td> <td>    0.436</td> <td>    1.111</td>\n",
       "</tr>\n",
       "<tr>\n",
       "  <th>x2</th> <td>    0.2057</td> <td>    0.019</td> <td>   10.832</td> <td> 0.059</td> <td>   -0.036</td> <td>    0.447</td>\n",
       "</tr>\n",
       "<tr>\n",
       "  <th>x3</th> <td>    0.2393</td> <td>    0.032</td> <td>    7.532</td> <td> 0.084</td> <td>   -0.164</td> <td>    0.643</td>\n",
       "</tr>\n",
       "<tr>\n",
       "  <th>x4</th> <td>   -0.0008</td> <td>    0.015</td> <td>   -0.057</td> <td> 0.964</td> <td>   -0.188</td> <td>    0.187</td>\n",
       "</tr>\n",
       "</table>\n",
       "<table class=\"simpletable\">\n",
       "<tr>\n",
       "  <th>Omnibus:</th>       <td>   nan</td> <th>  Durbin-Watson:     </th> <td>   2.600</td>\n",
       "</tr>\n",
       "<tr>\n",
       "  <th>Prob(Omnibus):</th> <td>   nan</td> <th>  Jarque-Bera (JB):  </th> <td>   0.342</td>\n",
       "</tr>\n",
       "<tr>\n",
       "  <th>Skew:</th>          <td>-0.592</td> <th>  Prob(JB):          </th> <td>   0.843</td>\n",
       "</tr>\n",
       "<tr>\n",
       "  <th>Kurtosis:</th>      <td> 2.509</td> <th>  Cond. No.          </th> <td>    4.88</td>\n",
       "</tr>\n",
       "</table>"
      ],
      "text/plain": [
       "<class 'statsmodels.iolib.summary.Summary'>\n",
       "\"\"\"\n",
       "                            OLS Regression Results                            \n",
       "==============================================================================\n",
       "Dep. Variable:                      y   R-squared:                       0.999\n",
       "Model:                            OLS   Adj. R-squared:                  0.997\n",
       "Method:                 Least Squares   F-statistic:                     471.3\n",
       "Date:                Mon, 15 May 2017   Prob (F-statistic):             0.0345\n",
       "Time:                        14:27:47   Log-Likelihood:                 14.357\n",
       "No. Observations:                   5   AIC:                            -20.71\n",
       "Df Residuals:                       1   BIC:                            -22.28\n",
       "Df Model:                           4                                         \n",
       "Covariance Type:            nonrobust                                         \n",
       "==============================================================================\n",
       "                 coef    std err          t      P>|t|      [0.025      0.975]\n",
       "------------------------------------------------------------------------------\n",
       "x1             0.7737      0.027     29.117      0.022       0.436       1.111\n",
       "x2             0.2057      0.019     10.832      0.059      -0.036       0.447\n",
       "x3             0.2393      0.032      7.532      0.084      -0.164       0.643\n",
       "x4            -0.0008      0.015     -0.057      0.964      -0.188       0.187\n",
       "==============================================================================\n",
       "Omnibus:                          nan   Durbin-Watson:                   2.600\n",
       "Prob(Omnibus):                    nan   Jarque-Bera (JB):                0.342\n",
       "Skew:                          -0.592   Prob(JB):                        0.843\n",
       "Kurtosis:                       2.509   Cond. No.                         4.88\n",
       "==============================================================================\n",
       "\n",
       "Warnings:\n",
       "[1] Standard Errors assume that the covariance matrix of the errors is correctly specified.\n",
       "\"\"\""
      ]
     },
     "execution_count": 41,
     "metadata": {},
     "output_type": "execute_result"
    }
   ],
   "source": [
    "est = sm.OLS(y, X.T).fit()\n",
    "est.summary()"
   ]
  },
  {
   "cell_type": "code",
   "execution_count": null,
   "metadata": {
    "collapsed": true
   },
   "outputs": [],
   "source": []
  }
 ],
 "metadata": {
  "kernelspec": {
   "display_name": "Python 3",
   "language": "python",
   "name": "python3"
  },
  "language_info": {
   "codemirror_mode": {
    "name": "ipython",
    "version": 3
   },
   "file_extension": ".py",
   "mimetype": "text/x-python",
   "name": "python",
   "nbconvert_exporter": "python",
   "pygments_lexer": "ipython3",
   "version": "3.6.1"
  }
 },
 "nbformat": 4,
 "nbformat_minor": 2
}
